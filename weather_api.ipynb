{
  "nbformat": 4,
  "nbformat_minor": 0,
  "metadata": {
    "colab": {
      "name": "Untitled0.ipynb",
      "provenance": [],
      "collapsed_sections": [],
      "authorship_tag": "ABX9TyPiOKhBPVKPzvz3x4oTa17x",
      "include_colab_link": true
    },
    "kernelspec": {
      "name": "python3",
      "display_name": "Python 3"
    }
  },
  "cells": [
    {
      "cell_type": "markdown",
      "metadata": {
        "id": "view-in-github",
        "colab_type": "text"
      },
      "source": [
        "<a href=\"https://colab.research.google.com/github/AtharvaGuru/python_challenges/blob/master/weather_api.ipynb\" target=\"_parent\"><img src=\"https://colab.research.google.com/assets/colab-badge.svg\" alt=\"Open In Colab\"/></a>"
      ]
    },
    {
      "cell_type": "code",
      "metadata": {
        "id": "zlUQHph6RJzh",
        "colab_type": "code",
        "colab": {}
      },
      "source": [
        "import requests\n",
        "from datetime import date, timedelta"
      ],
      "execution_count": null,
      "outputs": []
    },
    {
      "cell_type": "code",
      "metadata": {
        "id": "3I7nxaX-ROl1",
        "colab_type": "code",
        "colab": {}
      },
      "source": [
        "def get_weather_forecast(zipcodes):\n",
        "    \"\"\"\n",
        "    get the temperature and humidity dump\n",
        "    :param zipcodes:\n",
        "    :return: entire response as a json\n",
        "    \"\"\"\n",
        "    all_zip_data = []\n",
        "    for zip_code in zipcodes:\n",
        "        \n",
        "        try:\n",
        "            url = \"http://api.openweathermap.org/data/2.5/forecast?zip=\"+str(zip_code)+\"&APIKey=ca2447b099a720afb3b5c62bfa1e0244\"\n",
        "            response = requests.request(\"GET\", url)\n",
        "            d = response.json()\n",
        "            all_zip_data.append(zip_code)\n",
        "            all_zip_data.append(d['list'])\n",
        "\n",
        "        except requests.exceptions.RequestException as e:\n",
        "            print(e)\n",
        "    return all_zip_data"
      ],
      "execution_count": null,
      "outputs": []
    },
    {
      "cell_type": "code",
      "metadata": {
        "id": "ereERuTrRX0d",
        "colab_type": "code",
        "colab": {}
      },
      "source": [
        "def parse_weather_dump(weather_data):\n",
        "    \"\"\"\n",
        "    parse the weather data from the api and return the temp and date\n",
        "    :param weather_data:\n",
        "    :return: list of temp and dates based on the forecast\n",
        "    \"\"\"\n",
        "    data_list = []\n",
        "    for w in weather_data:\n",
        "        if isinstance(w,list):\n",
        "          for w_inner in w:\n",
        "            main_list = [w_inner['dt_txt']]\n",
        "            w_inner['main'].pop('feels_like')\n",
        "            for main in w_inner['main'].values():\n",
        "                main_list.append(main)\n",
        "                data_list.append(main_list)\n",
        "        else:\n",
        "          data_list.append(w)\n",
        "        \n",
        " \n",
        "    return data_list"
      ],
      "execution_count": null,
      "outputs": []
    },
    {
      "cell_type": "code",
      "metadata": {
        "id": "rYrHVIlGRfp3",
        "colab_type": "code",
        "colab": {}
      },
      "source": [
        "zip_codes=['37363','48188','85260','39759']\n",
        "weather_dump = get_weather_forecast(zip_codes)\n",
        "temp_data = parse_weather_dump(weather_dump)"
      ],
      "execution_count": null,
      "outputs": []
    },
    {
      "cell_type": "code",
      "metadata": {
        "id": "g9Rb5sO1TbSI",
        "colab_type": "code",
        "colab": {}
      },
      "source": [
        "temp_data"
      ],
      "execution_count": null,
      "outputs": []
    },
    {
      "cell_type": "code",
      "metadata": {
        "id": "nTFlTFqwR4MU",
        "colab_type": "code",
        "colab": {
          "base_uri": "https://localhost:8080/",
          "height": 697
        },
        "outputId": "6500e259-652e-4124-f4c1-45e84e2dd7c8"
      },
      "source": [
        "with open('temperature.txt', 'w') as f:\n",
        "    for item in my_list:\n",
        "        f.write(\"%s\\n\" % item)"
      ],
      "execution_count": null,
      "outputs": [
        {
          "output_type": "execute_result",
          "data": {
            "text/plain": [
              "[['2020-09-13 03:00:00', 297.13, 296.12, 297.13, 1017, 1017, 990, 85, 1.01],\n",
              " ['2020-09-13 06:00:00', 295.53, 294.82, 295.53, 1016, 1016, 989, 91, 0.71],\n",
              " ['2020-09-13 09:00:00', 294.23, 293.97, 294.23, 1015, 1015, 989, 95, 0.26],\n",
              " ['2020-09-13 12:00:00', 294.31, 294.28, 294.31, 1017, 1017, 990, 96, 0.03],\n",
              " ['2020-09-13 15:00:00', 298.66, 298.66, 298.66, 1017, 1017, 991, 78, 0],\n",
              " ['2020-09-13 18:00:00', 302.86, 302.86, 302.86, 1017, 1017, 991, 56, 0],\n",
              " ['2020-09-13 21:00:00', 304.39, 304.39, 304.39, 1015, 1015, 989, 50, 0],\n",
              " ['2020-09-14 00:00:00', 297.54, 297.54, 297.54, 1016, 1016, 989, 81, 0],\n",
              " ['2020-09-14 03:00:00', 294.93, 294.93, 294.93, 1018, 1018, 991, 92, 0],\n",
              " ['2020-09-14 06:00:00', 294.13, 294.13, 294.13, 1018, 1018, 991, 94, 0],\n",
              " ['2020-09-14 09:00:00', 293.6, 293.6, 293.6, 1018, 1018, 991, 95, 0],\n",
              " ['2020-09-14 12:00:00', 293.63, 293.63, 293.63, 1020, 1020, 993, 95, 0],\n",
              " ['2020-09-14 15:00:00', 299.11, 299.11, 299.11, 1020, 1020, 993, 74, 0],\n",
              " ['2020-09-14 18:00:00', 302.58, 302.58, 302.58, 1019, 1019, 993, 61, 0],\n",
              " ['2020-09-14 21:00:00', 302.12, 302.12, 302.12, 1018, 1018, 992, 63, 0],\n",
              " ['2020-09-15 00:00:00', 297.4, 297.4, 297.4, 1018, 1018, 992, 69, 0],\n",
              " ['2020-09-15 03:00:00', 295.44, 295.44, 295.44, 1020, 1020, 993, 66, 0],\n",
              " ['2020-09-15 06:00:00', 293.17, 293.17, 293.17, 1020, 1020, 993, 74, 0],\n",
              " ['2020-09-15 09:00:00', 291.76, 291.76, 291.76, 1020, 1020, 993, 81, 0],\n",
              " ['2020-09-15 12:00:00', 291.43, 291.43, 291.43, 1021, 1021, 994, 85, 0],\n",
              " ['2020-09-15 15:00:00', 298.7, 298.7, 298.7, 1021, 1021, 995, 69, 0],\n",
              " ['2020-09-15 18:00:00', 301.43, 301.43, 301.43, 1020, 1020, 994, 57, 0],\n",
              " ['2020-09-15 21:00:00', 301.02, 301.02, 301.02, 1018, 1018, 992, 56, 0],\n",
              " ['2020-09-16 00:00:00', 295.65, 295.65, 295.65, 1019, 1019, 992, 75, 0],\n",
              " ['2020-09-16 03:00:00', 293.97, 293.97, 293.97, 1020, 1020, 993, 74, 0],\n",
              " ['2020-09-16 06:00:00', 293.41, 293.41, 293.41, 1019, 1019, 992, 73, 0],\n",
              " ['2020-09-16 09:00:00', 293.22, 293.22, 293.22, 1018, 1018, 991, 74, 0],\n",
              " ['2020-09-16 12:00:00', 291.27, 291.27, 291.27, 1019, 1019, 992, 92, 0],\n",
              " ['2020-09-16 15:00:00', 290.95, 290.95, 290.95, 1019, 1019, 992, 96, 0],\n",
              " ['2020-09-16 18:00:00', 291.24, 291.24, 291.24, 1019, 1019, 991, 96, 0],\n",
              " ['2020-09-16 21:00:00', 291.3, 291.3, 291.3, 1017, 1017, 990, 96, 0],\n",
              " ['2020-09-17 00:00:00', 291.19, 291.19, 291.19, 1016, 1016, 988, 95, 0],\n",
              " ['2020-09-17 03:00:00', 291.24, 291.24, 291.24, 1016, 1016, 989, 96, 0],\n",
              " ['2020-09-17 06:00:00', 291.15, 291.15, 291.15, 1015, 1015, 988, 95, 0],\n",
              " ['2020-09-17 09:00:00', 291.17, 291.17, 291.17, 1014, 1014, 987, 96, 0],\n",
              " ['2020-09-17 12:00:00', 291.32, 291.32, 291.32, 1014, 1014, 987, 97, 0],\n",
              " ['2020-09-17 15:00:00', 291.48, 291.48, 291.48, 1015, 1015, 988, 97, 0],\n",
              " ['2020-09-17 18:00:00', 291.78, 291.78, 291.78, 1014, 1014, 987, 97, 0],\n",
              " ['2020-09-17 21:00:00', 292.04, 292.04, 292.04, 1013, 1013, 986, 97, 0],\n",
              " ['2020-09-18 00:00:00', 292.32, 292.32, 292.32, 1014, 1014, 987, 97, 0]]"
            ]
          },
          "metadata": {
            "tags": []
          },
          "execution_count": 5
        }
      ]
    },
    {
      "cell_type": "code",
      "metadata": {
        "id": "3f7yL1oxR5pP",
        "colab_type": "code",
        "colab": {}
      },
      "source": [
        ""
      ],
      "execution_count": null,
      "outputs": []
    }
  ]
}