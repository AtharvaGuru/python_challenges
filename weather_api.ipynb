{
  "nbformat": 4,
  "nbformat_minor": 0,
  "metadata": {
    "colab": {
      "name": "Untitled0.ipynb",
      "provenance": [],
      "collapsed_sections": [],
      "authorship_tag": "ABX9TyNyb5/HRwJlBoxozXF/ZG4R",
      "include_colab_link": true
    },
    "kernelspec": {
      "name": "python3",
      "display_name": "Python 3"
    }
  },
  "cells": [
    {
      "cell_type": "markdown",
      "metadata": {
        "id": "view-in-github",
        "colab_type": "text"
      },
      "source": [
        "<a href=\"https://colab.research.google.com/github/AtharvaGuru/python_challenges/blob/master/weather_api.ipynb\" target=\"_parent\"><img src=\"https://colab.research.google.com/assets/colab-badge.svg\" alt=\"Open In Colab\"/></a>"
      ]
    },
    {
      "cell_type": "code",
      "metadata": {
        "id": "zlUQHph6RJzh",
        "colab_type": "code",
        "colab": {}
      },
      "source": [
        "import requests\n",
        "from datetime import date, timedelta\n",
        "import numpy as np"
      ],
      "execution_count": 42,
      "outputs": []
    },
    {
      "cell_type": "code",
      "metadata": {
        "id": "3I7nxaX-ROl1",
        "colab_type": "code",
        "colab": {}
      },
      "source": [
        "def get_weather_forecast(zipcodes):\n",
        "    \"\"\"\n",
        "    get the temperature and humidity dump\n",
        "    :param zipcodes:\n",
        "    :return: entire response as a json\n",
        "    \"\"\"\n",
        "    all_zip_data = []\n",
        "    for zip_code in zipcodes:\n",
        "        \n",
        "        try:\n",
        "            url = \"http://api.openweathermap.org/data/2.5/forecast?zip=\"+str(zip_code)+\"&APIKey=ca2447b099a720afb3b5c62bfa1e0244\"\n",
        "            response = requests.request(\"GET\", url)\n",
        "            d = response.json()\n",
        "            all_zip_data.append(zip_code)\n",
        "            all_zip_data.append(d['list'])\n",
        "\n",
        "        except requests.exceptions.RequestException as e:\n",
        "            print(e)\n",
        "    return all_zip_data"
      ],
      "execution_count": 11,
      "outputs": []
    },
    {
      "cell_type": "code",
      "metadata": {
        "id": "ereERuTrRX0d",
        "colab_type": "code",
        "colab": {}
      },
      "source": [
        "def parse_weather_dump(weather_data):\n",
        "    \"\"\"\n",
        "    parse the weather data from the api and return the temp and date\n",
        "    :param weather_data:\n",
        "    :return: list of temp and dates based on the forecast\n",
        "    \"\"\"\n",
        "    data_list = []\n",
        "    for w in weather_data:\n",
        "        if isinstance(w,str):\n",
        "          zips=w\n",
        "        if isinstance(w,list):\n",
        "          for w_inner in w:\n",
        "            main_list = [w_inner['dt_txt']]\n",
        "            main_list.append(zips)\n",
        "            main_list.append(w_inner['main']['temp'])\n",
        "            main_list.append(w_inner['main']['humidity'])\n",
        "            data_list.append(main_list)\n",
        "        # else:\n",
        "        #   data_list.append(w)\n",
        "        \n",
        " \n",
        "    return data_list"
      ],
      "execution_count": 39,
      "outputs": []
    },
    {
      "cell_type": "code",
      "metadata": {
        "id": "rYrHVIlGRfp3",
        "colab_type": "code",
        "colab": {}
      },
      "source": [
        "zip_codes=['37363']\n",
        "# ,'48188','85260','39759']\n",
        "# weather_dump = get_weather_forecast(zip_codes)\n",
        "temp_data = parse_weather_dump(weather_dump)"
      ],
      "execution_count": 40,
      "outputs": []
    },
    {
      "cell_type": "code",
      "metadata": {
        "id": "g9Rb5sO1TbSI",
        "colab_type": "code",
        "colab": {}
      },
      "source": [
        "temp_data = np.array(temp_data).flatten()"
      ],
      "execution_count": 46,
      "outputs": []
    },
    {
      "cell_type": "code",
      "metadata": {
        "id": "vIn4qzLs5Lo3",
        "colab_type": "code",
        "colab": {}
      },
      "source": [
        "temp_data"
      ],
      "execution_count": null,
      "outputs": []
    },
    {
      "cell_type": "code",
      "metadata": {
        "id": "nTFlTFqwR4MU",
        "colab_type": "code",
        "colab": {}
      },
      "source": [
        "column_names = ['date', 'zip code', 'temp', 'humidity']\n",
        "count=0\n",
        "with open('temperature.txt', 'w') as f:\n",
        "    for col in column_names:\n",
        "        f.write(\"%s\\t\" % col)\n",
        "    f.write(\"\\n\")\n",
        "    for item in temp_data:\n",
        "        if count==4:\n",
        "          f.write(\"\\n\")\n",
        "          count=0\n",
        "        f.write(\"%s\\t\" % item)\n",
        "        count= count+1\n"
      ],
      "execution_count": 57,
      "outputs": []
    },
    {
      "cell_type": "code",
      "metadata": {
        "id": "3f7yL1oxR5pP",
        "colab_type": "code",
        "colab": {}
      },
      "source": [
        "url = \"https://api.opencagedata.com/geocode/v1/json?q=chattanooga,TN&key=3dd645b1a1a448329900a40bc7032ad9\"\n",
        "response = requests.request(\"GET\", url)\n",
        "\n"
      ],
      "execution_count": 9,
      "outputs": []
    },
    {
      "cell_type": "code",
      "metadata": {
        "id": "wIhWsmz4yAC3",
        "colab_type": "code",
        "colab": {
          "base_uri": "https://localhost:8080/",
          "height": 1000
        },
        "outputId": "aec91829-b87e-41b1-adfe-c0a924941909"
      },
      "source": [
        "response.json()"
      ],
      "execution_count": 10,
      "outputs": [
        {
          "output_type": "execute_result",
          "data": {
            "text/plain": [
              "{'documentation': 'https://opencagedata.com/api',\n",
              " 'licenses': [{'name': 'see attribution guide',\n",
              "   'url': 'https://opencagedata.com/credits'}],\n",
              " 'rate': {'limit': 2500, 'remaining': 2497, 'reset': 1600214400},\n",
              " 'results': [{'annotations': {'DMS': {'lat': \"35° 2' 44.59884'' N\",\n",
              "     'lng': \"85° 18' 34.15788'' W\"},\n",
              "    'FIPS': {'county': '47065', 'state': '47'},\n",
              "    'MGRS': '16SFD5418379419',\n",
              "    'Maidenhead': 'EM75ib20ux',\n",
              "    'Mercator': {'x': -9496608.797, 'y': 4145559.958},\n",
              "    'OSM': {'edit_url': 'https://www.openstreetmap.org/edit?relation=197273#map=17/35.04572/-85.30949',\n",
              "     'note_url': 'https://www.openstreetmap.org/note/new#map=17/35.04572/-85.30949&layers=N',\n",
              "     'url': 'https://www.openstreetmap.org/?mlat=35.04572&mlon=-85.30949#map=17/35.04572/-85.30949'},\n",
              "    'UN_M49': {'regions': {'AMERICAS': '019',\n",
              "      'NORTHERN_AMERICA': '021',\n",
              "      'US': '840',\n",
              "      'WORLD': '001'},\n",
              "     'statistical_groupings': ['MEDC']},\n",
              "    'callingcode': 1,\n",
              "    'currency': {'alternate_symbols': ['US$'],\n",
              "     'decimal_mark': '.',\n",
              "     'disambiguate_symbol': 'US$',\n",
              "     'html_entity': '$',\n",
              "     'iso_code': 'USD',\n",
              "     'iso_numeric': '840',\n",
              "     'name': 'United States Dollar',\n",
              "     'smallest_denomination': 1,\n",
              "     'subunit': 'Cent',\n",
              "     'subunit_to_unit': 100,\n",
              "     'symbol': '$',\n",
              "     'symbol_first': 1,\n",
              "     'thousands_separator': ','},\n",
              "    'flag': '🇺🇸',\n",
              "    'geohash': 'dn5r6ezs0u540wkndbsn',\n",
              "    'qibla': 51.45,\n",
              "    'roadinfo': {'drive_on': 'right', 'speed_in': 'mph'},\n",
              "    'sun': {'rise': {'apparent': 1600169160,\n",
              "      'astronomical': 1600164000,\n",
              "      'civil': 1600167600,\n",
              "      'nautical': 1600165860},\n",
              "     'set': {'apparent': 1600213560,\n",
              "      'astronomical': 1600132260,\n",
              "      'civil': 1600128660,\n",
              "      'nautical': 1600130460}},\n",
              "    'timezone': {'name': 'America/New_York',\n",
              "     'now_in_dst': 1,\n",
              "     'offset_sec': -14400,\n",
              "     'offset_string': '-0400',\n",
              "     'short_name': 'EDT'},\n",
              "    'what3words': {'words': 'policy.tinsel.royal'},\n",
              "    'wikidata': 'Q186702'},\n",
              "   'bounds': {'northeast': {'lat': 35.214346, 'lng': -85.051587},\n",
              "    'southwest': {'lat': 34.9829822, 'lng': -85.4255628}},\n",
              "   'components': {'ISO_3166-1_alpha-2': 'US',\n",
              "    'ISO_3166-1_alpha-3': 'USA',\n",
              "    '_category': 'place',\n",
              "    '_type': 'city',\n",
              "    'city': 'Chattanooga',\n",
              "    'continent': 'North America',\n",
              "    'country': 'United States of America',\n",
              "    'country_code': 'us',\n",
              "    'county': 'Hamilton County',\n",
              "    'state': 'Tennessee',\n",
              "    'state_code': 'TN'},\n",
              "   'confidence': 3,\n",
              "   'formatted': 'Chattanooga, TN, United States of America',\n",
              "   'geometry': {'lat': 35.0457219, 'lng': -85.3094883}}],\n",
              " 'status': {'code': 200, 'message': 'OK'},\n",
              " 'stay_informed': {'blog': 'https://blog.opencagedata.com',\n",
              "  'twitter': 'https://twitter.com/OpenCage'},\n",
              " 'thanks': 'For using an OpenCage API',\n",
              " 'timestamp': {'created_http': 'Tue, 15 Sep 2020 03:33:58 GMT',\n",
              "  'created_unix': 1600140838},\n",
              " 'total_results': 1}"
            ]
          },
          "metadata": {
            "tags": []
          },
          "execution_count": 10
        }
      ]
    },
    {
      "cell_type": "code",
      "metadata": {
        "id": "PQtMqDxKyUMT",
        "colab_type": "code",
        "colab": {}
      },
      "source": [
        ""
      ],
      "execution_count": null,
      "outputs": []
    }
  ]
}